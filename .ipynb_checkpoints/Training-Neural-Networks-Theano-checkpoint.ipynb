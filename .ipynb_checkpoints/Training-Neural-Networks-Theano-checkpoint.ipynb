{
 "cells": [
  {
   "cell_type": "markdown",
   "metadata": {},
   "source": [
    "#Training Neural Networks with Theano"
   ]
  },
  {
   "cell_type": "markdown",
   "metadata": {},
   "source": [
    "**Training neural networks** involves quite a few tricky bits. We try to make everything clear and easy to understand, to get you training your neural networks as quickly as possible.\n",
    "\n",
    "**Theano** allows us to write relatively concise code that follows the structure of the underlying maths. To run the code yourself, download the notebook at https://github.com/ASIDataScience/training-neural-networks-notebook"
   ]
  },
  {
   "cell_type": "markdown",
   "metadata": {},
   "source": [
    "## Recognising hand-written digits"
   ]
  },
  {
   "cell_type": "markdown",
   "metadata": {},
   "source": [
    "We will train a network to classify digits. More precisely, we want a network that when presented with an image of a hand-written digit will tell us what digit it is `('0', '1', ..., '9')`. The data we will use for this task is known as the MNIST dataset. It has a long tradition in neural networks research, as the dataset is quite small but still very tricky to classify correctly.\n",
    "\n",
    "<img src=\"0-MNIST-Digits.png\" />\n",
    "\n",
    "You can <a href=http://www.iro.umontreal.ca/~lisa/deep/data/mnist/mnist.pkl.gz> download the MNIST dataset</a> which we are using."
   ]
  },
  {
   "cell_type": "markdown",
   "metadata": {},
   "source": [
    "### Import Theano\n",
    "You can install theano with the Python package manager `pip`. At the command line type\n",
    "\n",
    "`pip install theano` \n",
    "\n",
    "or check out the <a href=http://deeplearning.net/software/theano/install.html#basic-user-install-instructions>theano documentation</a> if you run into trouble \n",
    "\n",
    "The `theano.tensor` module contains useful functionality for manipulating vectors and matrices, like we will be doing here, so let's import it along with the full package. "
   ]
  },
  {
   "cell_type": "code",
   "execution_count": 1,
   "metadata": {
    "collapsed": false
   },
   "outputs": [
    {
     "name": "stderr",
     "output_type": "stream",
     "text": [
      "WARNING (theano.configdefaults): g++ not detected ! Theano will be unable to execute optimized C-implementations (for both CPU and GPU) and will default to Python implementations. Performance will be severely degraded. To remove this warning, set Theano flags cxx to an empty string.\n"
     ]
    }
   ],
   "source": [
    "import theano\n",
    "import theano.tensor as T \n",
    "import numpy as np"
   ]
  },
  {
   "cell_type": "markdown",
   "metadata": {},
   "source": [
    "With the data loaded into a variable `mnist_dataset`, we split it into three part: a training set, used to teach the network to recognize digits, a validation set that could be used to tune and compare models, and finally a test set, used to see how well it has learned.\n",
    "\n",
    "We then prepare the datasets, splitting each set into the images and their labels, and store them in Theano shared variables, a bit of theano magic that's explained later. Understanding this massaging of the data isn't crucial."
   ]
  },
  {
   "cell_type": "code",
   "execution_count": 4,
   "metadata": {
    "collapsed": false,
    "include": false
   },
   "outputs": [],
   "source": [
    "import os\n",
    "import gzip\n",
    "import pickle\n",
    "\n",
    "myPath = '' # mnist.pkl.gz is in this directory\n",
    "f = gzip.open(os.path.join(myPath, 'mnist.pkl.gz'), 'rb')\n",
    "\n",
    "try:        # for cross-platform, cross-version reasons, try two different pickle.load statements\n",
    "    mnist_dataset = pickle.load(f, encoding='latin1')\n",
    "except:\n",
    "    mnist_dataset = pickle.load(f)\n",
    "f.close()"
   ]
  },
  {
   "cell_type": "code",
   "execution_count": 5,
   "metadata": {
    "collapsed": false
   },
   "outputs": [],
   "source": [
    "train_set, valid_set, test_set = mnist_dataset\n",
    "prepare_data = lambda x: (theano.shared(x[0].astype('float64')), \n",
    "                          theano.shared(x[1].astype('int32')))\n",
    "(training_x, training_y), (valid_x, valid_y), (test_x, test_y) = map(prepare_data, (train_set, valid_set, test_set))"
   ]
  },
  {
   "cell_type": "code",
   "execution_count": 6,
   "metadata": {
    "collapsed": false,
    "include": false
   },
   "outputs": [],
   "source": [
    "import matplotlib\n",
    "import matplotlib.pyplot as plt\n",
    "%matplotlib inline\n",
    "\n",
    "def plot_mnist_digit(image):\n",
    "    '''Plot a single digit from the mnsist dataset'''\n",
    "    image = np.reshape(image, [28,28])    \n",
    "    fig = plt.figure()\n",
    "    ax = fig.add_subplot(1, 1, 1)\n",
    "    ax.matshow(image, cmap=matplotlib.cm.binary)\n",
    "    plt.xticks(np.array([]))\n",
    "    plt.yticks(np.array([]))\n",
    "    plt.show()"
   ]
  },
  {
   "cell_type": "markdown",
   "metadata": {},
   "source": [
    "Let's look at the first three images in the training set, then set about building a machine learning model that has the ability to recognise digits itself! \n",
    "\n",
    "We've defined a function `plot_mnist_digit` exactly for printing out the training images - it's just for prettiness."
   ]
  },
  {
   "cell_type": "code",
   "execution_count": 7,
   "metadata": {
    "collapsed": false
   },
   "outputs": [
    {
     "data": {
      "image/png": "[encoded data removed]",
      "text/plain": [
       "<matplotlib.figure.Figure at 0x7e6c898>"
      ]
     },
     "metadata": {},
     "output_type": "display_data"
    },
    {
     "name": "stdout",
     "output_type": "stream",
     "text": [
      "Image class: 5\n"
     ]
    },
    {
     "data": {
      "image/png": "[encoded data removed]",
      "text/plain": [
       "<matplotlib.figure.Figure at 0x17070940>"
      ]
     },
     "metadata": {},
     "output_type": "display_data"
    },
    {
     "name": "stdout",
     "output_type": "stream",
     "text": [
      "Image class: 0\n"
     ]
    },
    {
     "data": {
      "image/png": "[encoded data removed]",
      "text/plain": [
       "<matplotlib.figure.Figure at 0x170e8358>"
      ]
     },
     "metadata": {},
     "output_type": "display_data"
    },
    {
     "name": "stdout",
     "output_type": "stream",
     "text": [
      "Image class: 4\n"
     ]
    }
   ],
   "source": [
    "for i in range(3):\n",
    "    plot_mnist_digit(training_x.get_value()[i])             # training_x is a theano object containing *images*\n",
    "    print ('Image class: '+ str(training_y.get_value()[i])) # training_y is a theano object containing *labels*"
   ]
  },
  {
   "cell_type": "markdown",
   "metadata": {},
   "source": [
    "# The neural network model\n",
    "\n",
    "The neural network model that we will build defines a probability distribution\n",
    "\n",
    "$$P(Y = y \\ |\\ X = \\boldsymbol{\\textrm{x}} ; \\theta),$$\n",
    "\n",
    "where $Y$ represents the image class, which means it is a random variable that can take the values `0-9`, $X$ represents the image pixels and is a vector-valued random variable (we collapse the image matrix into a vector), and $\\theta$ is the set of model parameters that we are going to learn.\n",
    "\n",
    "In this tutorial we build two models: first implementing a logistic regression model, then extending it to a neural network model."
   ]
  },
  {
   "cell_type": "markdown",
   "metadata": {},
   "source": [
    "## Multi-class logistic regression\n",
    "\n",
    "The equation for our first model is give by\n",
    "\n",
    "$$P(Y = y \\ |\\ \\boldsymbol{\\textrm{x}} ; \\theta) \\propto \\left[\\sigma \\left( \\boldsymbol{\\textrm{x}}^\\boldsymbol{\\textrm{T}} \\boldsymbol{\\textrm{W}}  + \\boldsymbol{\\textrm{b}}^\\boldsymbol{\\textrm{T}}\\right)\\right]_y,$$\n",
    "\n",
    "where $[\\boldsymbol{\\textrm{x}}]_i$ is the $i$th entry of vector $\\boldsymbol{\\textrm{x}}$, and the use of the proportionality symbol $\\propto$ means that the probability is equal to the expression on the right hand side times a constant chosen such that $\\sum_y{P(Y = y \\ |\\ \\boldsymbol{\\textrm{x}} ; \\theta)} = 1$\n",
    "\n",
    "The parameter set $\\theta$ for this model is $\\theta = \\{\\boldsymbol{\\textrm{W}}, \\boldsymbol{\\textrm{b}}\\}$, where $\\boldsymbol{\\textrm{W}}$ is a matrix and $\\boldsymbol{\\textrm{b}}$ is a vector. We also use the non-linearity $\\sigma$ given by\n",
    "\n",
    "$$\\sigma(t) = \\frac{1}{1+e^{-t}}$$\n",
    "\n",
    "<img src=https://upload.wikimedia.org/wikipedia/commons/thumb/8/88/Logistic-curve.svg/200px-Logistic-curve.svg.png />\n",
    "\n",
    "When applied to a vector or matrix, the sigmoid function $\\sigma(t)$ is applied entrywise."
   ]
  },
  {
   "cell_type": "markdown",
   "metadata": {},
   "source": [
    "## Understanding the logistic regression model\n",
    "\n",
    "One way to think about the logistic regression model is that it takes the input ($\\boldsymbol{\\textrm{x}}$), puts it through a linear combination ($\\boldsymbol{\\textrm{x}}^\\boldsymbol{\\textrm{T}} \\boldsymbol{\\textrm{W}}  + \\boldsymbol{\\textrm{b}}^\\boldsymbol{\\textrm{T}}$) and then finally through a non-linearity: $\\sigma(\\boldsymbol{\\textrm{x}}^\\boldsymbol{\\textrm{T}} \\boldsymbol{\\textrm{W}}  + \\boldsymbol{\\textrm{b}}^\\boldsymbol{\\textrm{T}})$.\n",
    "\n",
    "The result of this operation is a vector representing the entire discrete distribution over all the possible classes - in our case the ten possible digits `0-9`. To get the probability of a particular class $y=6$ we extract the $6th$ entry of the probability vector: $\\left[\\sigma \\left( \\boldsymbol{\\textrm{x}}^\\boldsymbol{\\textrm{T}} \\boldsymbol{\\textrm{W}}  + \\boldsymbol{\\textrm{b}}^\\boldsymbol{\\textrm{T}}\\right)\\right]_y$\n",
    "\n",
    "Graphically the model looks like this:\n",
    "\n",
    "<img src='1-Logistic-Regression-Graph.png' />\n",
    "\n",
    "Each indiviual entry of the vectors **x** and $P(Y)$ is shown as a circle -- known as the units (or artificial *neurons*) of the network. We have $D$ input units (the dimensionality of the input vector, which is the flattened matrix of pixels) and $C$ output units (the number of classes, which is the digits `0-9`). The model parameters **W** and **b** are represented as arrows. We also show the application of the sigmoid functions, but we do not represent the normalization that makes the probabilities sum up to $1$.\n",
    "\n",
    "Another way to write the model above is using the $\\textrm{SoftMax}$ function. A good exercise is deriving the $\\textrm{SoftMax}$ function based on the fact that we can also write the same model using $\\textrm{SoftMax}$ and the equal sign instead of the proportionality sign:\n",
    "\n",
    "$$P(Y = y \\ |\\ \\boldsymbol{\\textrm{x}} ; \\theta) = \\left[\\textrm{SoftMax} \\left( \\boldsymbol{\\textrm{W}} \\boldsymbol{\\textrm{x}} + \\boldsymbol{\\textrm{b}}\\right)\\right]_y,$$"
   ]
  },
  {
   "cell_type": "markdown",
   "metadata": {},
   "source": [
    "## Neural network with a single hidden layer \n",
    "\n",
    "Our second model is given by\n",
    "\n",
    "$$P(Y = y \\ |\\ \\boldsymbol{\\textrm{x}} ; \\theta) = \\left[ \\textrm{SoftMax} \\left( \\boldsymbol{\\textrm{h}} ^\\boldsymbol{\\textrm{T}}  \\boldsymbol{\\textrm{W}}_\\boldsymbol{\\textrm{hy}} + \\boldsymbol{\\textrm{b}}^\\boldsymbol{\\textrm{T}} _\\boldsymbol{\\textrm{hy}}\\right)\\right]_y, \\\\\n",
    "\\boldsymbol{\\textrm{h}} = \\tanh \\left( \\boldsymbol{\\textrm{x}} ^\\boldsymbol{\\textrm{T}} \\boldsymbol{\\textrm{W}}_\\boldsymbol{\\textrm{xh}}  + \\boldsymbol{\\textrm{b}}^\\boldsymbol{\\textrm{T}}_\\boldsymbol{\\textrm{xh}}\\right)$$\n",
    "\n",
    "This is very similar to the logisitc regression model. Here we have introduced a new vector-valued random variable $h$. We call this a 'hidden' variable or 'latent' variable, as we do not have any data observations for it. This variable may not even correspond to any quantity in the real world, but we use it to increase the power of our statistical model. \n",
    "\n",
    "We now also have more parameters: $\\theta = \\{\\boldsymbol{\\textrm{W}}_\\boldsymbol{\\textrm{xh}}, \\boldsymbol{\\textrm{W}}_\\boldsymbol{\\textrm{hy}}, \\boldsymbol{\\textrm{b}}_\\boldsymbol{\\textrm{xh}}, \\boldsymbol{\\textrm{b}}_\\boldsymbol{\\textrm{hy}}\\}$.\n",
    "\n",
    "$\\tanh$ is the hyperbolic tangent function given by\n",
    "$$\\tanh(t) = \\frac{e^t-e^{-t}}{e^t+e^{-t}}$$\n",
    "\n",
    "<img src= http://www.ece.northwestern.edu/local-apps/matlabhelp/techdoc/ref/tanh.gif />\n",
    "\n",
    "Like with the sigmoid, when applied to a vector or matrix, $\\tanh$ function is applied entrywise.\n",
    "\n",
    "Graphically, this model looks like this:\n",
    "\n",
    "<img src='2-Neural-Network-Graph.png' />\n",
    "\n",
    "Now our depiction shows a hidden layer with $M$ units (this number can be different from the number of input neurons and number of output neurons), and we have two different nonlinearities in the graph: $tanh$ and sigmoids (but again we are not graphically representing the SoftMax normalization)."
   ]
  },
  {
   "cell_type": "markdown",
   "metadata": {},
   "source": [
    "## Teaching the network"
   ]
  },
  {
   "cell_type": "markdown",
   "metadata": {},
   "source": [
    "The way we're going to make our network learn is by trying to find some values for our parameters $\\theta$ so that the network is as likely as possible to guess the correct class. That is, given a data set of training images $\\boldsymbol{\\textrm{x}}_1, \\boldsymbol{\\textrm{x}}_2, \\dots, \\boldsymbol{\\textrm{x}}_N$ and correct labels $y_1, y_2, \\dots, y_N$, we want to find the parameters that maximize probability of the correct labels given the images. \n",
    "\n",
    "This method of choosing parameters is called *maximum likelihood* (ML), and we can express it mathematically as finding the parameters $\\theta$ which maximize the likelihood function:\n",
    "\n",
    "$$\\theta^* = {\\arg\\max}_\\theta \\ P( Y_1 = y_1, Y_2 = y_2, \\dots, Y_N = y_N \\ | \\ \\boldsymbol{\\textrm{X}}_1 = \\boldsymbol{\\textrm{x}}_1,\\boldsymbol{\\textrm{X}}_2 = \\boldsymbol{\\textrm{x}}_2, \\dots, \\boldsymbol{\\textrm{X}}_N = \\boldsymbol{\\textrm{x}}_N ; \\theta)$$\n",
    "\n",
    "And since our data points are independent, we can write this joint probability as a product of probabilities:\n",
    "\n",
    "\\begin{align}\n",
    "P( Y_1 = y_1,\\dots, Y_N = y_N \\ | \\ \\boldsymbol{\\textrm{X}}_1 = \\boldsymbol{\\textrm{x}}_1, \\dots, \\boldsymbol{\\textrm{X}}_N = \\boldsymbol{\\textrm{x}}_N ; \\theta) &= P( Y_1 = y_1 \\ | \\ \\boldsymbol{\\textrm{X}}_1 = \\boldsymbol{\\textrm{x}}_1 ; \\theta) \\times  \\dots \\times P( Y_N = y_N \\ | \\ \\boldsymbol{\\textrm{X}}_N = \\boldsymbol{\\textrm{x}}_N ; \\theta) \\\\\n",
    "&= \\prod_{i=1}^N P( Y_i = y_i \\ | \\ \\boldsymbol{\\textrm{X}}_i = \\boldsymbol{\\textrm{x}}_i)\n",
    "\\end{align}"
   ]
  },
  {
   "cell_type": "markdown",
   "metadata": {},
   "source": [
    "## Writing the likelihood function for an entire dataset\n",
    "\n",
    "In our likelihood function above, each random variable pair $(X_1, Y_1), (X_2, Y_2), \\dots, (X_N, Y_N)$ refers to a single data point. But since virtually all of our computations need to deal with multiple data points, we will find it both useful and computationally efficient to express both the mathematics and our Python code in terms of datasets. Thus, we will express the scalar random variables $Y_1, Y_2, \\dots, Y_N$ as the vector-valued random variable $Y$, and the vector-valued random variables $X_1, X_2, \\dots, X_N$ as the matrix-valued random variable $X$, where the matrix $X$ has as many **rows** as there are data points. \n",
    "\n",
    "Using this notation, we rewrite the maximum likelihood equation above:\n",
    "\n",
    "$$\\theta^* = {\\arg\\max}_\\theta \\ P( Y = \\boldsymbol{\\textrm{y}}\\ | \\ X = \\boldsymbol{\\textrm{X}} ; \\theta)$$\n",
    "\n",
    "Similarly, we can specify the logistic regression model it terms of multiple datapoints:\n",
    "\n",
    "$$P(Y \\ |\\ X = \\boldsymbol{\\textrm{X}} ; \\theta) = \\textrm{SoftMax} \\left(  \\boldsymbol{\\textrm{X}} \\boldsymbol{\\textrm{W}} + \\boldsymbol{\\textrm{1b}}^\\boldsymbol{\\textrm{T}}\\right)$$\n",
    "\n",
    "Here the result is a matrix of probabilities with as many rows as there are data points, and as many columns as there are classes. We also consider the SoftMax to normalize the result of the linear combination $\\left( \\boldsymbol{\\textrm{X}} \\boldsymbol{\\textrm{W}} + \\boldsymbol{\\textrm{1b}}^\\boldsymbol{\\textrm{T}}\\right)$ in such a way that each row of the result is a proper probability distribution summing to $1$. Note that we have had to multiply the bias vector $\\boldsymbol{\\textrm{b}}$ by the vertical vector of all ones $\\boldsymbol{\\textrm{1}}$ in order to add the bias term for every single data point.\n",
    "\n",
    "The neural network model equations follow a similar pattern, which it would be a good exercise to write out for yourself."
   ]
  },
  {
   "cell_type": "markdown",
   "metadata": {},
   "source": [
    "## Computing the log-likelihood of a dataset\n",
    "\n",
    "In most machine learning applications, it is better to maximize the log-likelihood rather than the likelihood. This is done because the log-likelihood tends to be simpler to compute and more numerically stable than the likelihood. In terms of the math, this doesn't make things much more complicated, as all we need to add is a $\\log$ in front of the likelihood:\n",
    "\n",
    "$$\\theta^* = {\\arg\\max}_\\theta \\ \\log P( Y = \\boldsymbol{\\textrm{y}}\\ | \\ X = \\boldsymbol{\\textrm{X}} ; \\theta)$$\n",
    "\n",
    "Since the logarithm of a product is the sum of the logarithms, we can write:\n",
    "\n",
    "$$\\log P( Y = \\boldsymbol{\\textrm{y}}\\ | \\ X = \\boldsymbol{\\textrm{X}} ; \\theta) = \\sum_{i=1}^N \\log P( Y_i = \\boldsymbol{\\textrm{y}}_i\\ | \\ X_i = \\boldsymbol{\\textrm{X}}_i ; \\theta)$$\n",
    "\n",
    "that is, the log joint probability is the sum of the log marginal probabilities.\n",
    "\n",
    "Now let's plug in the probability of a dataset from above to obtain:\n",
    "\n",
    "$$\\log P( Y = \\boldsymbol{\\textrm{y}}\\ | \\ X = \\boldsymbol{\\textrm{X}} ; \\theta) = \\sum \\left[ \\log\\left( \\textrm{SoftMax} \\left( \\boldsymbol{\\textrm{X}} \\boldsymbol{\\textrm{W}} + \\boldsymbol{\\textrm{1b}}^\\boldsymbol{\\textrm{T}}\\right)\\right)\\right]_{\\cdot,\\boldsymbol{\\textrm{y}}}$$\n",
    "\n",
    "where we use the notation $[\\boldsymbol{\\textrm{M}}]_{\\cdot,\\boldsymbol{\\textrm{y}}}$ to mean that from the matrix $\\boldsymbol{\\textrm{M}}$ we construct a new vector $(a_1, a_2, \\dots, a_n)$ such that $a_i = M_{i, y_i} \\forall i$. We use a slight abuse of notation and we use the sum symbol to indicate the summation of the entries in the vector; we need a summation because the log joint probability is the sum of the log marginal probabilities."
   ]
  },
  {
   "cell_type": "markdown",
   "metadata": {},
   "source": [
    "## Classifying a dataset\n",
    "\n",
    "Once we have a set of parameters $\\theta$ that we are happy with, we can use the model to classify new data. \n",
    "\n",
    "We have built a model that gives us a distribution over classes given the data. How do we assign a class to a new data point? The simplest way is to choose the class with the highest probability under the model to be the class we assign. We can write this mathematically, again using vector notation:\n",
    "\n",
    "$$\\hat{\\boldsymbol{\\textrm{y}}} = {\\arg\\max} \\ P(Y \\ |\\ \\boldsymbol{\\textrm{X}} ; \\theta) $$"
   ]
  },
  {
   "cell_type": "markdown",
   "metadata": {},
   "source": [
    "# Gradient ascent\n",
    "\n",
    "Computing the maximum likelihood parameters is computationally unfeasible, so we're going to use a method called *gradient ascent* to find a set of parameters that are really good but perhaps not the absolute best.\n",
    "\n",
    "The idea of gradient ascent is very simple. Given a function $f:\\mathbb{R}^n \\rightarrow \\mathbb{R}$, we want to iteratively find points $f(\\boldsymbol{\\textrm{x}}_n)$ such that the value of the function gets progressively higher, that is: $f(\\boldsymbol{\\textrm{x}}_{n+1}) > f(\\boldsymbol{\\textrm{x}}_n) \\forall n$. One way to do this is taking the direction of steepest ascent, which is just the gradient of the function $\\frac{\\partial f}{\\partial \\boldsymbol{\\textrm{x}}}$, and taking a step in that direction times a constant $\\lambda$ known as the *learning rate* that describes how big the step should be. We express this mathematically as:\n",
    "\n",
    "$$ \\boldsymbol{\\textrm{x}}_{n+1} \\leftarrow \\boldsymbol{\\textrm{x}}_n + \\lambda \\frac{\\partial f}{\\partial \\boldsymbol{\\textrm{x}}} $$\n",
    "\n",
    "The last detail is choosing the starting point, $\\boldsymbol{\\textrm{x}}_0$, which we can arbitrarily choose by setting to zero or to some random value. Graphically, the algorithm looks like this, with each color representing the path from a different starting point:\n",
    "\n",
    "<img src='3-Gradient-Ascent-Sktech.png' />\n",
    "\n",
    "Note that this method tends to find the top of the nearest hill ('local' maximum), and not the overall best point ('global' maximum). \n",
    "\n",
    "It is also not guaranteed to increase the value of the function at each step; if the learning rate is too large, the algorithm could potentially jump across the top of the hill to a lower point on the other side of the hill. Much research goes into optimization methods, and many neural networks models are trained with methods that are more complicated than gradient ascent as it's presented here, but this same idea is at the base of all of those methods. \n",
    "\n",
    "\n",
    "Finally, most people talk about and use gradient **descent** on the **negative** log-likelihood rather than gradient **ascent** on the log-likelihood; this is because gradient descent is the standard algorithm in the field of optimization. Gradient ascent in used in this tutorial to keep things a bit simpler."
   ]
  },
  {
   "cell_type": "markdown",
   "metadata": {},
   "source": [
    "## Optimizing our model with gradient ascent\n",
    "\n",
    "This is extremely easy: we just apply the equation above to our parameters taking the gradient of the log-likelihood:\n",
    "\n",
    "\\begin{align}\n",
    "\\boldsymbol{\\textrm{W}} &\\leftarrow \\boldsymbol{\\textrm{W}} + \\lambda \\frac{\\partial \\log P( Y = \\boldsymbol{\\textrm{y}}\\ | \\ X = \\boldsymbol{\\textrm{X}} ; \\theta)}{\\partial \\boldsymbol{\\textrm{W}}} \\\\\n",
    "\\boldsymbol{\\textrm{b}} &\\leftarrow \\boldsymbol{\\textrm{b}} + \\lambda \\frac{\\partial \\log P( Y = \\boldsymbol{\\textrm{y}}\\ | \\ X = \\boldsymbol{\\textrm{X}} ; \\theta)}{\\partial \\boldsymbol{\\textrm{b}}} \\\\\n",
    "\\end{align}"
   ]
  },
  {
   "cell_type": "markdown",
   "metadata": {},
   "source": [
    "# Coding with Theano\n",
    "\n",
    "Coding with Theano is extremely simple: once we have the equations behind the model, we pretty much type them directly. Since we will be training on multiple data points, we are going to encode the model as we wrote it for datasets, using vectors and matrices. \n",
    "\n",
    "\n",
    "We'll start with the logistic regression. Our model is:\n",
    "\n",
    "$$P(Y \\ |\\ \\boldsymbol{\\textrm{X}} ; \\theta) = \\textrm{SoftMax} \\left( \\boldsymbol{\\textrm{X}} \\boldsymbol{\\textrm{W}} + \\boldsymbol{\\textrm{1b}}^\\boldsymbol{\\textrm{T}}\\right)$$\n",
    "\n",
    "The first thing we do is declare all of the variables ($\\boldsymbol{\\textrm{X}}, \\boldsymbol{\\textrm{y}}, \\boldsymbol{\\textrm{W}}, \\boldsymbol{\\textrm{b}}$) that we will be using and their types like you would in Java or C:"
   ]
  },
  {
   "cell_type": "code",
   "execution_count": 8,
   "metadata": {
    "collapsed": false
   },
   "outputs": [],
   "source": [
    "n_classes = 10  # each digit is one of 0-9 \n",
    "dims = 28 * 28  # our input data is flattened 28x28 matrices of image pixels\n",
    "\n",
    "X = T.dmatrix() # Theano double matrix\n",
    "y = T.ivector() # Theano integer vector\n",
    "W = theano.shared(np.zeros([dims,n_classes])) # Theano shared double matrix\n",
    "b = theano.shared(np.zeros(n_classes))        # Theano shared double vector"
   ]
  },
  {
   "cell_type": "markdown",
   "metadata": {},
   "source": [
    "As you can see above, we defined $W$ and $b$ to be *shared* variables. This means that the values of these variables are persistent -- their values live on after we have run Theano operations. This is opposed to regular Theano variables, which only take values when Theano runs, and otherwise only exist in the abstract.\n",
    "\n",
    "The reason for making $W$ and $b$ shared variables is that we want to run multiple iterations of gradient descent, and to do that, we need their values to persist. Furthermore, we want to find good parameters through training, but we will then want to use the same parameters for prediction, so we need them to be persistent\n",
    "\n",
    "Let's now write our statistical model in Theano. We basically copy the following equation into code:\n",
    "\n",
    "$$P(Y \\ |\\ \\boldsymbol{\\textrm{X}} ; \\theta) = \\textrm{SoftMax} \\left( \\boldsymbol{\\textrm{X}} \\boldsymbol{\\textrm{W}} + \\boldsymbol{\\textrm{1b}}^\\boldsymbol{\\textrm{T}}\\right)$$"
   ]
  },
  {
   "cell_type": "code",
   "execution_count": 9,
   "metadata": {
    "collapsed": false
   },
   "outputs": [],
   "source": [
    "P = T.nnet.softmax(T.dot(X,W) + b) # the matrix of probabilities of all classes for all data points"
   ]
  },
  {
   "cell_type": "markdown",
   "metadata": {},
   "source": [
    "Theano provides us with a **`T.nnet.softmax`** function to compute SoftMax, correctly normalizing the probabilities so that each row of the matrix **`P`** is a proper probability distribution that sums to $1$. \n",
    "\n",
    "Note that we didn't need to multiply **`b`** by the **1** vector, Theano will do the correct addition for us automatically, just like numpy would do it. Here is a simple numpy example illustrating this:"
   ]
  },
  {
   "cell_type": "code",
   "execution_count": 10,
   "metadata": {
    "collapsed": false
   },
   "outputs": [
    {
     "data": {
      "text/plain": [
       "array([[ 1.,  2.],\n",
       "       [ 1.,  2.],\n",
       "       [ 1.,  2.]])"
      ]
     },
     "execution_count": 10,
     "metadata": {},
     "output_type": "execute_result"
    }
   ],
   "source": [
    "amatrix = np.zeros((3,2)) # 3x2 matrix of all zeros\n",
    "avector = np.array((1,2)) # the vector [1,2]\n",
    "amatrix + avector         "
   ]
  },
  {
   "cell_type": "markdown",
   "metadata": {},
   "source": [
    "Our next equation is the log-likelihood (**LL**) of a dataset:\n",
    "\n",
    "$$\\log P( Y = \\boldsymbol{\\textrm{y}}\\ | \\ X = \\boldsymbol{\\textrm{X}} ; \\theta) = \\sum \\left[ \\log\\left( \\textrm{SoftMax} \\left( \\boldsymbol{\\textrm{X}} \\boldsymbol{\\textrm{W}} + \\boldsymbol{\\textrm{1b}}^\\boldsymbol{\\textrm{T}}\\right)\\right)\\right]_{\\cdot,\\boldsymbol{\\textrm{y}}}$$"
   ]
  },
  {
   "cell_type": "code",
   "execution_count": 11,
   "metadata": {
    "collapsed": false
   },
   "outputs": [],
   "source": [
    "LL = T.mean(T.log(P)[T.arange(P.shape[0]), y]) # the log-likelihood (LL)"
   ]
  },
  {
   "cell_type": "markdown",
   "metadata": {},
   "source": [
    "OK... there's a lot going on here.\n",
    "\n",
    "We have used two important tricks: \n",
    "- using mean instead of sum,\n",
    "- using the strange indexing **`[T.arange(P.shape[0]), y]`** \n",
    "\n",
    "Let's go over them one by one."
   ]
  },
  {
   "cell_type": "markdown",
   "metadata": {},
   "source": [
    "#### Use the mean instead of the sum\n",
    "Imagine that we were to construct a new dataset that contains each data point in the original dataset twice. Then the log-likelihood of the new dataset will be double that of the original. More importantly, the gradient of the log-likelihood of the new dataset will also be double the gradient of the log-likelihood of the original dataset. But we would like the size of the gradient to not depend on the amount of duplication in our dataset, and the easiest way to accomplish that is to divide the gradient by the size of the dataset.\n",
    "\n",
    "Since taking the mean is equivalent to taking the sum and then dividing by the number of data points, what we are computing here is a type of \"normalized\" log-likelihood that will cause our gradient descent algorithm to be robust to change in dataset size. The quantity we are computing in the code can be more precisely described as the average log-likelihood for a single datapoint."
   ]
  },
  {
   "cell_type": "markdown",
   "metadata": {},
   "source": [
    "#### Use indexing to create a vector from a matrix\n",
    "\n",
    "The second thing we do is use **`[T.arange(P.shape[0]), y]`** to apply the mathematical operation denoted in the equation by $\\left[ \\cdot\\right]_{\\cdot,\\boldsymbol{\\textrm{y}}}$, that is, constructing a new vector $(a_1, a_2, \\dots, a_n)$ from a matrix $\\boldsymbol{\\textrm{M}}$ such that $a_i = M_{i, y_i} \\forall i$.\n",
    "\n",
    "As cryptic as it may be, this is a peculiar, but standard numpy way to index. For example, given a matrix\n",
    "\n",
    "**<pre>\n",
    "M = np.array([[1,2,3,4],\n",
    "              [5,6,7,8],\n",
    "              [9,10,11,12]]\n",
    "</pre>**\n",
    "\n",
    "If we wanted to extract one element from each row, say the 1st element from the first row, and the last from the others\n",
    "\n",
    "**<pre>M[0,0], M[1,3], M[2,3]</pre>**\n",
    "\n",
    "We could write that as a single index expression by combining the indexes\n",
    "\n",
    "**<pre>M[(0,1,2), (0,3,3)]</pre>**\n",
    "\n",
    "But now the first index is just $(0 \\dots \\#\\textrm{rows}-1)$, or, in code, **`np.arange(M.shape[0])`**.\n",
    "\n",
    "So we can write:"
   ]
  },
  {
   "cell_type": "code",
   "execution_count": 12,
   "metadata": {
    "collapsed": false
   },
   "outputs": [
    {
     "data": {
      "text/plain": [
       "array([ 1,  8, 12])"
      ]
     },
     "execution_count": 12,
     "metadata": {},
     "output_type": "execute_result"
    }
   ],
   "source": [
    "M = np.array([[1,  2,  3,  4],\n",
    "              [5,  6,  7,  8],\n",
    "              [9, 10, 11, 12]])\n",
    "\n",
    "M[np.arange(M.shape[0]), (0,3,3)]"
   ]
  },
  {
   "cell_type": "markdown",
   "metadata": {},
   "source": [
    "We're done with the model. There's one more thing we need to do, and that is specify the gradient updates\n",
    "\n",
    "\\begin{align}\n",
    "\\boldsymbol{\\textrm{W}} &\\leftarrow \\boldsymbol{\\textrm{W}} + \\lambda \\frac{\\partial \\log P( Y = \\boldsymbol{\\textrm{y}}\\ | \\ X = \\boldsymbol{\\textrm{X}} ; \\theta)}{\\partial \\boldsymbol{\\textrm{W}}} \\\\\n",
    "\\boldsymbol{\\textrm{b}} &\\leftarrow \\boldsymbol{\\textrm{b}} + \\lambda \\frac{\\partial \\log P( Y = \\boldsymbol{\\textrm{y}}\\ | \\ X = \\boldsymbol{\\textrm{X}} ; \\theta)}{\\partial \\boldsymbol{\\textrm{b}}} \\\\\n",
    "\\end{align}"
   ]
  },
  {
   "cell_type": "code",
   "execution_count": 13,
   "metadata": {
    "collapsed": false
   },
   "outputs": [],
   "source": [
    "learning_rate = 0.5 # we tuned this parameter by hand\n",
    "updates = [\n",
    "        [W, W + learning_rate * T.grad(LL, W)], \n",
    "        [b, b + learning_rate * T.grad(LL, b)]\n",
    "        ]"
   ]
  },
  {
   "cell_type": "markdown",
   "metadata": {},
   "source": [
    "## Theano functions\n",
    "\n",
    "OK, we're done coding the model. What do we do next?\n",
    "\n",
    "When working with Theano, the next step is to create a Theano function. A Theano function is the basic unit of Theano code that we call to do something. In our case, this something will be performing a single gradient ascent iteration.\n",
    "\n",
    "We create a Theano function by calling the function **`theano.function`** (yes, we create a function by calling a function). **`theano.function`** has four important parameters that we provide in order to get a Theano function:\n",
    "\n",
    "- `inputs`  -- the list of input variables of the Theano function, similar to the inputs of a Python function\n",
    "- `outputs` -- the list of output variables of the Theano function, similar to the inputs of a Python function\n",
    "- `updates` -- a list of updates for shared variables, in the format we used above when we defined the variable **`updates`**\n",
    "- `givens` -- a dictionary that allows substituting some variables from the model with other variables\n",
    "\n",
    "In our case, we want the input to be the training dataset, the updates to be the gradient ascent updates, and while we don't really need an output, it will be helpful to get the log-likelihood as an output to see that we are doing the right things.\n",
    "\n",
    "However, we will use the **`givens`** instead of the **`input`** to provide the data to the function. \n",
    "\n",
    "Doing it this way is more efficient, as we've already loaded up the training dataset into memory as a shared Theano function, when we first loaded the data.\n",
    "\n",
    "Our Theano function will look like this:"
   ]
  },
  {
   "cell_type": "code",
   "execution_count": 14,
   "metadata": {
    "collapsed": false
   },
   "outputs": [],
   "source": [
    "training_function = theano.function(\n",
    "    inputs = [],             # use givens instead of the inputs as it's more efficient\n",
    "    outputs = LL,            # output log-likelihood just to check that it is improving \n",
    "    updates = updates,       # these are the gradient updates, the one part that's really important\n",
    "    givens = {X: training_x, # we indicate that the model variables X and y defined in the abstract\n",
    "              y: training_y} # should take the values in the shared variables training_x and training_y                \n",
    "    )"
   ]
  },
  {
   "cell_type": "markdown",
   "metadata": {},
   "source": [
    "OK, let's run ten iterations of our code and see what the log-likelihood does"
   ]
  },
  {
   "cell_type": "code",
   "execution_count": 15,
   "metadata": {
    "collapsed": false,
    "scrolled": true
   },
   "outputs": [
    {
     "name": "stdout",
     "output_type": "stream",
     "text": [
      "Log-likelihood = -2.3025850929940463\t\tAverage probability of the correct class = 0.1\n",
      "Log-likelihood = -1.8391209025064599\t\tAverage probability of the correct class = 0.158957103494\n",
      "Log-likelihood = -1.5250543679632202\t\tAverage probability of the correct class = 0.217609225573\n",
      "Log-likelihood = -1.3142440592188174\t\tAverage probability of the correct class = 0.268677350658\n",
      "Log-likelihood = -1.1682410159224519\t\tAverage probability of the correct class = 0.310913352197\n",
      "Log-likelihood = -1.0617673924666753\t\tAverage probability of the correct class = 0.34584402773\n",
      "Log-likelihood = -0.9820455376704271\t\tAverage probability of the correct class = 0.374544170518\n",
      "Log-likelihood = -0.9194230935951666\t\tAverage probability of the correct class = 0.398749015602\n",
      "Log-likelihood = -0.869394886438446\t\tAverage probability of the correct class = 0.419205139229\n",
      "Log-likelihood = -0.8276885884406652\t\tAverage probability of the correct class = 0.437058341404\n"
     ]
    }
   ],
   "source": [
    "for i in range(10):\n",
    "    current_LL = training_function()\n",
    "    print(\"Log-likelihood = \" + str(current_LL) + \"\\t\\t\" +\n",
    "          \"Average probability of the correct class = \" + str(np.exp(current_LL))\n",
    "         )"
   ]
  },
  {
   "cell_type": "markdown",
   "metadata": {},
   "source": [
    "## Using the model for classification\n",
    "\n",
    "Great, it appears we're improving the log-likelihood of the model on the training data. Now to use it to classify. Recall our equation that expresses how to use the model to get the class:\n",
    "\n",
    "$$\\hat{\\boldsymbol{\\textrm{y}}} = {\\arg\\max} \\ P(Y \\ |\\ \\boldsymbol{\\textrm{X}} ; \\theta) $$\n",
    "\n",
    "Let's put that in code:"
   ]
  },
  {
   "cell_type": "code",
   "execution_count": 16,
   "metadata": {
    "collapsed": true
   },
   "outputs": [],
   "source": [
    "y_hat = T.argmax(P, axis=1)"
   ]
  },
  {
   "cell_type": "markdown",
   "metadata": {},
   "source": [
    "Note that we had to specify **axis=1**, that is, we want to get the **argmax** for each **row**, as each row represents the distribution for one datapoint.\n",
    "\n",
    "### Create a Theano function that classifies a dataset \n",
    "\n",
    "Similarly to the training function, the classification function will use givens to pass in the test dataset, and output **`y_hat`** which we just defined"
   ]
  },
  {
   "cell_type": "code",
   "execution_count": 15,
   "metadata": {
    "collapsed": false
   },
   "outputs": [],
   "source": [
    "classification_function = theano.function(\n",
    "    inputs = [],          \n",
    "    outputs = y_hat,      \n",
    "    givens = {X:test_x} # don't need the true labels test_y here\n",
    "    )"
   ]
  },
  {
   "cell_type": "markdown",
   "metadata": {},
   "source": [
    "Now let's run the classification once, and print the first ten images, the true labels, and the labels assigned by the model"
   ]
  },
  {
   "cell_type": "code",
   "execution_count": 16,
   "metadata": {
    "collapsed": false,
    "scrolled": false
   },
   "outputs": [
    {
     "name": "stdout",
     "output_type": "stream",
     "text": [
      "Classification error: 15.12%\n"
     ]
    },
    {
     "data": {
      "image/png": "[encoded data removed]",
      "text/plain": [
       "<matplotlib.figure.Figure at 0x108247e50>"
      ]
     },
     "metadata": {},
     "output_type": "display_data"
    },
    {
     "name": "stdout",
     "output_type": "stream",
     "text": [
      "Image class: \t\t7\n",
      "Model-assigned class: \t7\n"
     ]
    },
    {
     "data": {
      "image/png": "[encoded data removed]",
      "text/plain": [
       "<matplotlib.figure.Figure at 0x107f45a50>"
      ]
     },
     "metadata": {},
     "output_type": "display_data"
    },
    {
     "name": "stdout",
     "output_type": "stream",
     "text": [
      "Image class: \t\t2\n",
      "Model-assigned class: \t2\n"
     ]
    },
    {
     "data": {
      "image/png": "[encoded data removed]",
      "text/plain": [
       "<matplotlib.figure.Figure at 0x106b04190>"
      ]
     },
     "metadata": {},
     "output_type": "display_data"
    },
    {
     "name": "stdout",
     "output_type": "stream",
     "text": [
      "Image class: \t\t1\n",
      "Model-assigned class: \t1\n"
     ]
    },
    {
     "data": {
      "image/png": "[encoded data removed]",
      "text/plain": [
       "<matplotlib.figure.Figure at 0x106b99e90>"
      ]
     },
     "metadata": {},
     "output_type": "display_data"
    },
    {
     "name": "stdout",
     "output_type": "stream",
     "text": [
      "Image class: \t\t0\n",
      "Model-assigned class: \t0\n"
     ]
    },
    {
     "data": {
      "image/png": "[encoded data removed]",
      "text/plain": [
       "<matplotlib.figure.Figure at 0x106c2cbd0>"
      ]
     },
     "metadata": {},
     "output_type": "display_data"
    },
    {
     "name": "stdout",
     "output_type": "stream",
     "text": [
      "Image class: \t\t4\n",
      "Model-assigned class: \t4\n"
     ]
    },
    {
     "data": {
      "image/png": "[encoded data removed]",
      "text/plain": [
       "<matplotlib.figure.Figure at 0x106fa1910>"
      ]
     },
     "metadata": {},
     "output_type": "display_data"
    },
    {
     "name": "stdout",
     "output_type": "stream",
     "text": [
      "Image class: \t\t1\n",
      "Model-assigned class: \t1\n"
     ]
    },
    {
     "data": {
      "image/png": "[encoded data removed]",
      "text/plain": [
       "<matplotlib.figure.Figure at 0x107fe0650>"
      ]
     },
     "metadata": {},
     "output_type": "display_data"
    },
    {
     "name": "stdout",
     "output_type": "stream",
     "text": [
      "Image class: \t\t4\n",
      "Model-assigned class: \t4\n"
     ]
    },
    {
     "data": {
      "image/png": "[encoded data removed]",
      "text/plain": [
       "<matplotlib.figure.Figure at 0x1088ba390>"
      ]
     },
     "metadata": {},
     "output_type": "display_data"
    },
    {
     "name": "stdout",
     "output_type": "stream",
     "text": [
      "Image class: \t\t9\n",
      "Model-assigned class: \t9\n"
     ]
    },
    {
     "data": {
      "image/png": "[encoded data removed]",
      "text/plain": [
       "<matplotlib.figure.Figure at 0x10897d0d0>"
      ]
     },
     "metadata": {},
     "output_type": "display_data"
    },
    {
     "name": "stdout",
     "output_type": "stream",
     "text": [
      "Image class: \t\t5\n",
      "Model-assigned class: \t2\n"
     ]
    },
    {
     "data": {
      "image/png": "[encoded data removed]",
      "text/plain": [
       "<matplotlib.figure.Figure at 0x108a64dd0>"
      ]
     },
     "metadata": {},
     "output_type": "display_data"
    },
    {
     "name": "stdout",
     "output_type": "stream",
     "text": [
      "Image class: \t\t9\n",
      "Model-assigned class: \t9\n"
     ]
    }
   ],
   "source": [
    "test_y_hat = classification_function()\n",
    "print (\"Classification error: \"+ str(100 * (1 - np.mean(test_y_hat == test_y.get_value()))) + \"%\")\n",
    "for i in range(10):\n",
    "    plot_mnist_digit(\n",
    "        test_x.get_value()[i]                                # test_x is a theano object of images\n",
    "    ) \n",
    "    print ('Image class: \\t\\t' + str(test_y.get_value()[i])) # test_y is a theano object of *true labels*\n",
    "    print ('Model-assigned class: \\t' + str(test_y_hat[i]))  # test_y_hat is a theano object of *predicted labels*"
   ]
  },
  {
   "cell_type": "markdown",
   "metadata": {
    "collapsed": false
   },
   "source": [
    "## Training a neural network\n",
    "\n",
    "So far we have trained a logistic regression model. The neural network model is so similar that we can imlepement it with just a few changes to the code.\n",
    "\n",
    "We need  \n",
    "- to declare the hidden layer variable\n",
    "- to decide on the size of the hidden layer (we'll keep it small so it will run on your personal computer)\n",
    "- new parameters"
   ]
  },
  {
   "cell_type": "code",
   "execution_count": 17,
   "metadata": {
    "collapsed": true
   },
   "outputs": [],
   "source": [
    "H = T.dmatrix()  # Theano double matrix\n",
    "hidden_layer_size = 20\n",
    "W_xh = theano.shared(0.01 * np.random.randn(dims, hidden_layer_size))\n",
    "W_hy = theano.shared(np.zeros([hidden_layer_size, n_classes])) \n",
    "b_xh = theano.shared(np.zeros(hidden_layer_size))\n",
    "b_hy = theano.shared(np.zeros(n_classes))"
   ]
  },
  {
   "cell_type": "markdown",
   "metadata": {},
   "source": [
    "Remember our model? Let's write it using matrices and vector for an entire dataset:\n",
    "\n",
    "$$\\boldsymbol{\\textrm{H}} = \\tanh \\left( \\boldsymbol{\\textrm{X}}  \\boldsymbol{\\textrm{W}}_\\boldsymbol{\\textrm{xh}}  + \\boldsymbol{\\textrm{1b}}^\\boldsymbol{\\textrm{T}}_\\boldsymbol{\\textrm{xh}}\\right), \\\\\n",
    "P(Y \\ |\\ \\boldsymbol{\\textrm{x}} ; \\theta) =  \\textrm{SoftMax} \\left( \\boldsymbol{\\textrm{H}} \\boldsymbol{\\textrm{W}}_\\boldsymbol{\\textrm{hy}} + \\boldsymbol{\\textrm{1b}}^\\boldsymbol{\\textrm{T}} _\\boldsymbol{\\textrm{hy}}\\right)$$\n",
    "\n",
    "\n",
    "Let's code it up:"
   ]
  },
  {
   "cell_type": "code",
   "execution_count": 18,
   "metadata": {
    "collapsed": false
   },
   "outputs": [],
   "source": [
    "H =         T.tanh( T.dot(X, W_xh) + b_xh )\n",
    "P = T.nnet.softmax( T.dot(H, W_hy) + b_hy )"
   ]
  },
  {
   "cell_type": "markdown",
   "metadata": {},
   "source": [
    "Now let's add the gradient updates:"
   ]
  },
  {
   "cell_type": "code",
   "execution_count": 19,
   "metadata": {
    "collapsed": true
   },
   "outputs": [],
   "source": [
    "LL = T.mean(T.log(P)[T.arange(P.shape[0]), y])  # the log-likelihood (LL)\n",
    "\n",
    "updates = [\n",
    "        [W_xh, W_xh + learning_rate * T.grad(LL, W_xh)], \n",
    "        [W_hy, W_hy + learning_rate * T.grad(LL, W_hy)], \n",
    "        [b_xh, b_xh + learning_rate * T.grad(LL, b_xh)],\n",
    "        [b_hy, b_hy + learning_rate * T.grad(LL, b_hy)],\n",
    "    ]    "
   ]
  },
  {
   "cell_type": "markdown",
   "metadata": {},
   "source": [
    "### Redefining Log-loss\n",
    "The one extremely important thing we did here was redefined **`LL`**. \n",
    "\n",
    "This is a crucial point about how Theano works:\n",
    "\n",
    "Whenever we define a theano variable, like we did with **`P`**, we create a new object.\n",
    "When we define a new theano variable in terms of another Theano variable, like we did with **`LL`**, using\n",
    "**<pre>\n",
    "`LL = T.mean(T.log(P)[T.arange(P.shape[0]), y])`\n",
    "</pre>**\n",
    "we implicitly create a new object for **`LL`** that has a reference to our variable **`P`** we just defined.\n",
    "\n",
    "Now the crucial part: say we redefine **`P`**. Then our variable **`LL`** still has a reference to the *old* variable **`P`**, and we need to update the reference to **`LL`** by re-running the definition for **`LL`** for everything to work correctly. \n",
    "\n",
    "Bugs in Theano are very commonly produced by exactly this. It is a good reason to always use Theano in scripts rather than in a notebook like we are here. \n",
    "\n",
    "Phew, we are now ready to train!"
   ]
  },
  {
   "cell_type": "code",
   "execution_count": 20,
   "metadata": {
    "collapsed": false
   },
   "outputs": [
    {
     "name": "stdout",
     "output_type": "stream",
     "text": [
      "Log-likelihood = -2.30258509299\t\tAverage probability of the correct class = 0.1\n",
      "Log-likelihood = -2.301260143\t\tAverage probability of the correct class = 0.100132582813\n",
      "Log-likelihood = -2.29985742336\t\tAverage probability of the correct class = 0.100273139311\n",
      "Log-likelihood = -2.29814933548\t\tAverage probability of the correct class = 0.100444561005\n",
      "Log-likelihood = -2.29585974449\t\tAverage probability of the correct class = 0.100674801444\n",
      "Log-likelihood = -2.2926097774\t\tAverage probability of the correct class = 0.101002523491\n",
      "Log-likelihood = -2.28785314718\t\tAverage probability of the correct class = 0.101484099578\n",
      "Log-likelihood = -2.28079743549\t\tAverage probability of the correct class = 0.102202674172\n",
      "Log-likelihood = -2.27031674023\t\tAverage probability of the correct class = 0.103279462141\n",
      "Log-likelihood = -2.25487812942\t\tAverage probability of the correct class = 0.104886325515\n",
      "Log-likelihood = -2.23253100489\t\tAverage probability of the correct class = 0.107256619276\n",
      "Log-likelihood = -2.20104023375\t\tAverage probability of the correct class = 0.110687957106\n",
      "Log-likelihood = -2.1582595724\t\tAverage probability of the correct class = 0.115526010828\n",
      "Log-likelihood = -2.10278232534\t\tAverage probability of the correct class = 0.122116188179\n",
      "Log-likelihood = -2.03470964692\t\tAverage probability of the correct class = 0.130718431493\n",
      "Log-likelihood = -1.95612616578\t\tAverage probability of the correct class = 0.141405141361\n",
      "Log-likelihood = -1.87084468946\t\tAverage probability of the correct class = 0.153993530151\n",
      "Log-likelihood = -1.78339741578\t\tAverage probability of the correct class = 0.168066185511\n",
      "Log-likelihood = -1.69781819817\t\tAverage probability of the correct class = 0.183082538427\n",
      "Log-likelihood = -1.61686684319\t\tAverage probability of the correct class = 0.19851971911\n",
      "Log-likelihood = -1.54193010867\t\tAverage probability of the correct class = 0.213967721666\n",
      "Log-likelihood = -1.47336522593\t\tAverage probability of the correct class = 0.229153034446\n",
      "Log-likelihood = -1.41092281327\t\tAverage probability of the correct class = 0.243918088414\n",
      "Log-likelihood = -1.35405500976\t\tAverage probability of the correct class = 0.258191167337\n",
      "Log-likelihood = -1.30209894369\t\tAverage probability of the correct class = 0.271960364056\n",
      "Log-likelihood = -1.25438406129\t\tAverage probability of the correct class = 0.285251491561\n",
      "Log-likelihood = -1.21029452586\t\tAverage probability of the correct class = 0.298109465553\n",
      "Log-likelihood = -1.16929950344\t\tAverage probability of the correct class = 0.310584428406\n",
      "Log-likelihood = -1.13096059734\t\tAverage probability of the correct class = 0.322723100526\n",
      "Log-likelihood = -1.09492559978\t\tAverage probability of the correct class = 0.334564497696\n",
      "Log-likelihood = -1.06091566234\t\tAverage probability of the correct class = 0.346138718988\n",
      "Log-likelihood = -1.02871055443\t\tAverage probability of the correct class = 0.357467598533\n",
      "Log-likelihood = -0.998135176742\t\tAverage probability of the correct class = 0.36856611137\n",
      "Log-likelihood = -0.969049151498\t\tAverage probability of the correct class = 0.379443660064\n",
      "Log-likelihood = -0.941339587098\t\tAverage probability of the correct class = 0.390104905683\n",
      "Log-likelihood = -0.914915833679\t\tAverage probability of the correct class = 0.40055033752\n",
      "Log-likelihood = -0.889704949206\t\tAverage probability of the correct class = 0.410776934935\n",
      "Log-likelihood = -0.86564729478\t\tAverage probability of the correct class = 0.420779096345\n",
      "Log-likelihood = -0.842692353352\t\tAverage probability of the correct class = 0.430549769435\n",
      "Log-likelihood = -0.820795127401\t\tAverage probability of the correct class = 0.440081594419\n",
      "Log-likelihood = -0.799913392634\t\tAverage probability of the correct class = 0.449367881001\n",
      "Log-likelihood = -0.780005880711\t\tAverage probability of the correct class = 0.45840331556\n",
      "Log-likelihood = -0.761031287056\t\tAverage probability of the correct class = 0.467184377286\n",
      "Log-likelihood = -0.742947906704\t\tAverage probability of the correct class = 0.475709499272\n",
      "Log-likelihood = -0.725713685377\t\tAverage probability of the correct class = 0.483979036908\n",
      "Log-likelihood = -0.709286504208\t\tAverage probability of the correct class = 0.491995108699\n",
      "Log-likelihood = -0.693624565104\t\tAverage probability of the correct class = 0.499761364693\n",
      "Log-likelihood = -0.678686790458\t\tAverage probability of the correct class = 0.507282723661\n",
      "Log-likelihood = -0.664433187553\t\tAverage probability of the correct class = 0.514565106971\n",
      "Log-likelihood = -0.650825153157\t\tAverage probability of the correct class = 0.521615186716\n",
      "Log-likelihood = -0.637825709613\t\tAverage probability of the correct class = 0.528440158193\n",
      "Log-likelihood = -0.625399672875\t\tAverage probability of the correct class = 0.53504754179\n",
      "Log-likelihood = -0.613513757875\t\tAverage probability of the correct class = 0.541445015994\n",
      "Log-likelihood = -0.602136629008\t\tAverage probability of the correct class = 0.547640281054\n",
      "Log-likelihood = -0.59123890443\t\tAverage probability of the correct class = 0.553640951444\n",
      "Log-likelihood = -0.580793122897\t\tAverage probability of the correct class = 0.559454474405\n",
      "Log-likelihood = -0.570773681465\t\tAverage probability of the correct class = 0.565088071363\n",
      "Log-likelihood = -0.561156751609\t\tAverage probability of the correct class = 0.570548698858\n",
      "Log-likelihood = -0.551920180443\t\tAverage probability of the correct class = 0.575843025592\n",
      "Log-likelihood = -0.543043382773\t\tAverage probability of the correct class = 0.580977422405\n"
     ]
    }
   ],
   "source": [
    "training_function = theano.function(\n",
    "    inputs = [], \n",
    "    outputs = LL,\n",
    "    updates = updates,\n",
    "    givens = {X: training_x[:5000],  # use only 10% of the data so model not too complicated\n",
    "              y: training_y[:5000]}  # to train on a personal computer         \n",
    "    )\n",
    "for i in range(60):                  # train more than for logistic regression as this model is more complex\n",
    "    current_LL = training_function()\n",
    "    print(\n",
    "        \"Log-likelihood = \" + str(current_LL) + \"\\t\\t\" +\n",
    "        \"Average probability of the correct class = \" + str(np.exp(current_LL))\n",
    "    )"
   ]
  },
  {
   "cell_type": "markdown",
   "metadata": {},
   "source": [
    "## Test the model"
   ]
  },
  {
   "cell_type": "code",
   "execution_count": 21,
   "metadata": {
    "collapsed": false,
    "scrolled": false
   },
   "outputs": [
    {
     "name": "stdout",
     "output_type": "stream",
     "text": [
      "Classification error: 15.12%\n"
     ]
    },
    {
     "data": {
      "image/png": "[encoded data removed]",
      "text/plain": [
       "<matplotlib.figure.Figure at 0x108b9d410>"
      ]
     },
     "metadata": {},
     "output_type": "display_data"
    },
    {
     "name": "stdout",
     "output_type": "stream",
     "text": [
      "Image class: \t\t7\n",
      "Model-assigned class: \t7\n"
     ]
    },
    {
     "data": {
      "image/png": "[encoded data removed]",
      "text/plain": [
       "<matplotlib.figure.Figure at 0x1089aae90>"
      ]
     },
     "metadata": {},
     "output_type": "display_data"
    },
    {
     "name": "stdout",
     "output_type": "stream",
     "text": [
      "Image class: \t\t2\n",
      "Model-assigned class: \t2\n"
     ]
    },
    {
     "data": {
      "image/png": "[encoded data removed]",
      "text/plain": [
       "<matplotlib.figure.Figure at 0x106f0e790>"
      ]
     },
     "metadata": {},
     "output_type": "display_data"
    },
    {
     "name": "stdout",
     "output_type": "stream",
     "text": [
      "Image class: \t\t1\n",
      "Model-assigned class: \t1\n"
     ]
    },
    {
     "data": {
      "image/png": "[encoded data removed]",
      "text/plain": [
       "<matplotlib.figure.Figure at 0x1080024d0>"
      ]
     },
     "metadata": {},
     "output_type": "display_data"
    },
    {
     "name": "stdout",
     "output_type": "stream",
     "text": [
      "Image class: \t\t0\n",
      "Model-assigned class: \t0\n"
     ]
    },
    {
     "data": {
      "image/png": "[encoded data removed]",
      "text/plain": [
       "<matplotlib.figure.Figure at 0x106bbf210>"
      ]
     },
     "metadata": {},
     "output_type": "display_data"
    },
    {
     "name": "stdout",
     "output_type": "stream",
     "text": [
      "Image class: \t\t4\n",
      "Model-assigned class: \t4\n"
     ]
    },
    {
     "data": {
      "image/png": "[encoded data removed]",
      "text/plain": [
       "<matplotlib.figure.Figure at 0x106ebcf10>"
      ]
     },
     "metadata": {},
     "output_type": "display_data"
    },
    {
     "name": "stdout",
     "output_type": "stream",
     "text": [
      "Image class: \t\t1\n",
      "Model-assigned class: \t1\n"
     ]
    },
    {
     "data": {
      "image/png": "[encoded data removed]",
      "text/plain": [
       "<matplotlib.figure.Figure at 0x10714ac50>"
      ]
     },
     "metadata": {},
     "output_type": "display_data"
    },
    {
     "name": "stdout",
     "output_type": "stream",
     "text": [
      "Image class: \t\t4\n",
      "Model-assigned class: \t4\n"
     ]
    },
    {
     "data": {
      "image/png": "[encoded data removed]",
      "text/plain": [
       "<matplotlib.figure.Figure at 0x107193b90>"
      ]
     },
     "metadata": {},
     "output_type": "display_data"
    },
    {
     "name": "stdout",
     "output_type": "stream",
     "text": [
      "Image class: \t\t9\n",
      "Model-assigned class: \t9\n"
     ]
    },
    {
     "data": {
      "image/png": "[encoded data removed]",
      "text/plain": [
       "<matplotlib.figure.Figure at 0x1090fd6d0>"
      ]
     },
     "metadata": {},
     "output_type": "display_data"
    },
    {
     "name": "stdout",
     "output_type": "stream",
     "text": [
      "Image class: \t\t5\n",
      "Model-assigned class: \t2\n"
     ]
    },
    {
     "data": {
      "image/png": "[encoded data removed]",
      "text/plain": [
       "<matplotlib.figure.Figure at 0x109186410>"
      ]
     },
     "metadata": {},
     "output_type": "display_data"
    },
    {
     "name": "stdout",
     "output_type": "stream",
     "text": [
      "Image class: \t\t9\n",
      "Model-assigned class: \t9\n"
     ]
    }
   ],
   "source": [
    "y_hat = T.argmax(P, axis=1)\n",
    "test_y_hat = classification_function()\n",
    "\n",
    "print (\"Classification error: \" + str(100 * (1 - np.mean(test_y_hat == test_y.get_value()))) + \"%\")\n",
    "\n",
    "for i in range(10):\n",
    "    plot_mnist_digit(\n",
    "        test_x.get_value()[i]                                # test_y is a theano object of *images*\n",
    "    ) \n",
    "    print ('Image class: \\t\\t' + str(test_y.get_value()[i])) # test_y is a theano object of *true labels*\n",
    "    print ('Model-assigned class: \\t' + str(test_y_hat[i]))  # test_y_hat is a theano object of *predicted labels*"
   ]
  },
  {
   "cell_type": "markdown",
   "metadata": {},
   "source": [
    "## We've trained a neural network with Theano!\n",
    "\n",
    "Along the way we used a good chunk of mathematics, a hand-full of tricks but required very few lines of code. \n",
    "\n",
    "Hopefully this leads nicely to using Theano more, in particular we would be excited to see you set theano to work with: \n",
    "- smarter training algorithms, \n",
    "- parallelized training, and \n",
    "- training more popular network architectures\n",
    "\n",
    "'Til next time!"
   ]
  }
 ],
 "metadata": {
  "kernelspec": {
   "display_name": "Python 3",
   "language": "python",
   "name": "python3"
  },
  "language_info": {
   "codemirror_mode": {
    "name": "ipython",
    "version": 3
   },
   "file_extension": ".py",
   "mimetype": "text/x-python",
   "name": "python",
   "nbconvert_exporter": "python",
   "pygments_lexer": "ipython3",
   "version": "3.5.1"
  }
 },
 "nbformat": 4,
 "nbformat_minor": 0
}
